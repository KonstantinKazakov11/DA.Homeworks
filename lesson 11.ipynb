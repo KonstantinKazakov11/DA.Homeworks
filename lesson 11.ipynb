{
  "nbformat": 4,
  "nbformat_minor": 0,
  "metadata": {
    "colab": {
      "name": "Untitled3.ipynb",
      "provenance": [],
      "authorship_tag": "ABX9TyNbPXgeceBq/9oB8k1t8Opu",
      "include_colab_link": true
    },
    "kernelspec": {
      "name": "python3",
      "display_name": "Python 3"
    },
    "language_info": {
      "name": "python"
    }
  },
  "cells": [
    {
      "cell_type": "markdown",
      "metadata": {
        "id": "view-in-github",
        "colab_type": "text"
      },
      "source": [
        "<a href=\"https://colab.research.google.com/github/KonstantinKazakov11/DA.Homeworks/blob/main/lesson%2011.ipynb\" target=\"_parent\"><img src=\"https://colab.research.google.com/assets/colab-badge.svg\" alt=\"Open In Colab\"/></a>"
      ]
    },
    {
      "cell_type": "code",
      "source": [
        "\n",
        "import pandas as pd\n",
        "import numpy as np\n",
        "import matplotlib.pyplot as plt\n",
        "import random\n",
        "import scipy.stats as sts\n",
        "%matplotlib inline\n",
        "\n",
        "import warnings\n",
        "warnings.filterwarnings('ignore')"
      ],
      "metadata": {
        "id": "kNlcaT-yOiv-"
      },
      "execution_count": 3,
      "outputs": []
    },
    {
      "cell_type": "code",
      "execution_count": 11,
      "metadata": {
        "id": "ATE1Fmo-M4HR"
      },
      "outputs": [],
      "source": [
        "#Задача 3 Из двух претендентов E и L на ответственную должность три члена комиссии должны отобрать одного.\n",
        "#Каждый член комиссии должен указать либо одного достойного, либо забраковать обоих. \n",
        "#Претендент считается выбранным, если он был признана достойным хотя бы двумя членами комиссии. \n",
        "#Найти вероятность событий: A = {рекомендован L}, B = {рекомендован E}\n",
        "\n",
        "# имеем три члена комиссии   имеем двух претендентов E и L\n",
        "# Каждый член комиссии принимает одно из трех решений:  E–рекомендовать претендента E, L–рекомендовать претендента L, O–никого не рекомендовать.\n",
        "K1 = [\"E\", \"L\", \"O\"]\n",
        "K2 = [\"E\", \"L\", \"O\"]\n",
        "K3 = [\"E\", \"L\", \"O\"]\n",
        "# количество выбора претендента\n",
        "n = 10000\n",
        "# формируем выборку\n",
        "df = pd.DataFrame({'A': pd.Series(np.random.choice(K1, n)),\n",
        "                   'B': pd.Series(np.random.choice(K2, n)),\n",
        "                   'C': pd.Series(np.random.choice(K3, n))})"
      ]
    },
    {
      "cell_type": "code",
      "source": [
        "# вероятность событий: A = {рекомендован L}, B = {рекомендован E}\n",
        "i = 0\n",
        "for j in range(n):\n",
        "        if df.A.iloc[j] == df.B.iloc[j] == \"L\" or df.A.iloc[j] == df.C.iloc[j] == \"L\" or df.C.iloc[j] == df.B.iloc[j] == \"L\":\n",
        "               i+=1\n",
        "i / n"
      ],
      "metadata": {
        "colab": {
          "base_uri": "https://localhost:8080/"
        },
        "id": "f92hSP4qOnRS",
        "outputId": "ea3f5284-e22a-42b1-a899-592212fe2742"
      },
      "execution_count": 12,
      "outputs": [
        {
          "output_type": "execute_result",
          "data": {
            "text/plain": [
              "0.2608"
            ]
          },
          "metadata": {},
          "execution_count": 12
        }
      ]
    },
    {
      "cell_type": "code",
      "source": [
        "#Задача 7\n",
        "#В лотерее имеется 10 билетов, из которых один выигрышный. Размер выигрыша 10 ден. ед.; стоимость билета 1 ден ед. \n",
        "#Найти закон распределения случайной величины X, равной чистому выигрышу участника лотереи, который вытаскивает билет первым.\n",
        "\n",
        "# Значения выигрыша X: x1 = 10, x2= 0\n",
        "# Вероятности: p1=0.1, p2=1-0.1=0.9\n",
        "# Распределение Бернулли\n",
        "bernoulli_rv = sts.bernoulli(0.1) # вероятность успеха\n",
        "bernoulli_rv.rvs(10)"
      ],
      "metadata": {
        "colab": {
          "base_uri": "https://localhost:8080/"
        },
        "id": "DH5MQf_CPSOi",
        "outputId": "3aa4d4f5-60b8-49bf-db06-a17ff9c02f01"
      },
      "execution_count": 14,
      "outputs": [
        {
          "output_type": "execute_result",
          "data": {
            "text/plain": [
              "array([0, 0, 0, 0, 1, 0, 0, 0, 0, 0])"
            ]
          },
          "metadata": {},
          "execution_count": 14
        }
      ]
    },
    {
      "cell_type": "code",
      "source": [
        "x = np.linspace(10,0.1)\n",
        "cdf = bernoulli_rv.cdf(x) # вернёт массив из значений функции распределения\n",
        "plt.plot(x, cdf, color=\"darkblue\")\n",
        "plt.ylabel(\"$f(x)$\")\n",
        "plt.xlabel(\"$x$\")\n",
        "plt.plot()"
      ],
      "metadata": {
        "colab": {
          "base_uri": "https://localhost:8080/",
          "height": 296
        },
        "id": "8eindoMqPovk",
        "outputId": "389db5cf-ad66-45a2-a0d7-57234fb76121"
      },
      "execution_count": 15,
      "outputs": [
        {
          "output_type": "execute_result",
          "data": {
            "text/plain": [
              "[]"
            ]
          },
          "metadata": {},
          "execution_count": 15
        },
        {
          "output_type": "display_data",
          "data": {
            "text/plain": [
              "<Figure size 432x288 with 1 Axes>"
            ],
            "image/png": "[encoded data removed]"
          },
          "metadata": {
            "needs_background": "light"
          }
        }
      ]
    },
    {
      "cell_type": "code",
      "source": [
        "# Функция вероятности pmf для дискретных случайных величин\n",
        "x = np.linspace(0,1,2)\n",
        "pmf = bernoulli_rv.pmf(x) # вернёт массив из значений функции распределения\n",
        "plt.scatter(x, pmf, color=\"blue\" )\n",
        "plt.plot((0,0), (0,bernoulli_rv.pmf(0)), color=\"blue\")\n",
        "plt.plot((1,1), (0,bernoulli_rv.pmf(1)), color=\"blue\")\n",
        "plt.ylabel(\"$f(x)$\")\n",
        "plt.xlabel(\"$x$\")\n",
        "plt.plot()"
      ],
      "metadata": {
        "colab": {
          "base_uri": "https://localhost:8080/",
          "height": 296
        },
        "id": "fe5uu5dJPtyJ",
        "outputId": "ca852969-0f59-4437-c503-812c41754e5c"
      },
      "execution_count": 16,
      "outputs": [
        {
          "output_type": "execute_result",
          "data": {
            "text/plain": [
              "[]"
            ]
          },
          "metadata": {},
          "execution_count": 16
        },
        {
          "output_type": "display_data",
          "data": {
            "text/plain": [
              "<Figure size 432x288 with 1 Axes>"
            ],
            "image/png": "[encoded data removed]"
          },
          "metadata": {
            "needs_background": "light"
          }
        }
      ]
    }
  ]
}